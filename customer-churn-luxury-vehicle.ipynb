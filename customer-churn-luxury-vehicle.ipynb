{
    "cells": [
        {
            "metadata": {
                "collapsed": true
            },
            "cell_type": "markdown",
            "source": "# Customer Churn Analysis"
        },
        {
            "metadata": {},
            "cell_type": "markdown",
            "source": "This notebook is using customer churn data from Kaggle (https://www.kaggle.com/sandipdatta/customer-churn-analysis) and has been adopted from the notebook available on Kaggle developed by SanD."
        },
        {
            "metadata": {},
            "cell_type": "markdown",
            "source": "The notebook will go through the following steps:\n    1. Import Dataset\n    2. Analyze the Data\n    3. Prepare the data model building\n    4. Split data in test and train data\n    5. Train model using various machine learning algorithms for binary classification\n    6. Evaluate the models\n    7. Select the model best fit for the given data set\n    8. Save and deploy model to Watson Machine Learning"
        },
        {
            "metadata": {},
            "cell_type": "code",
            "source": "from sklearn import model_selection\nfrom sklearn import tree\nfrom sklearn import svm\nfrom sklearn import ensemble\nfrom sklearn import neighbors\nfrom sklearn import linear_model\nfrom sklearn import metrics\nfrom sklearn import preprocessing",
            "execution_count": 2,
            "outputs": []
        },
        {
            "metadata": {},
            "cell_type": "code",
            "source": "%matplotlib inline \n\nfrom IPython.display import Image\nimport matplotlib as mlp\nimport matplotlib.pyplot as plt\nimport numpy as np\nimport os\nimport pandas as pd\nimport sklearn\nimport seaborn as sns\nimport json",
            "execution_count": 3,
            "outputs": []
        },
        {
            "metadata": {},
            "cell_type": "markdown",
            "source": "## Dataset"
        },
        {
            "metadata": {},
            "cell_type": "markdown",
            "source": "The original dataset can be downloaded from https://www.kaggle.com/becksddf/churn-in-telecoms-dataset/data. Then upload it to IBM Watson Studio and insert the code to read the data using \"insert to code > Insert panndas DataFrame\"."
        },
        {
            "metadata": {},
            "cell_type": "code",
            "source": "# @hidden_cell\nimport types\nimport pandas as pd\nfrom botocore.client import Config\nimport ibm_boto3\n\ndef __iter__(self): return 0\n\n# @hidden_cell\n# The following code accesses a file in your IBM Cloud Object Storage. It includes your credentials.\n# You might want to remove those credentials before you share the notebook.\nclient_931d06c29a624816bb257512bafae77d = ibm_boto3.client(service_name='s3',\n    ibm_api_key_id='KZoBr2MTLsSd0GYgLw9A17-hwnfmTdSNpH51EX06ntuE',\n    ibm_auth_endpoint=\"https://iam.cloud.ibm.com/oidc/token\",\n    config=Config(signature_version='oauth'),\n    endpoint_url='https://s3-api.us-geo.objectstorage.service.networklayer.com')\n\nbody = client_931d06c29a624816bb257512bafae77d.get_object(Bucket='luxuryvehiclechurn-donotdelete-pr-ki69si3rt8w7oy',Key='sample_vehicle_customer_churn_dataframe.csv')['Body']\n# add missing __iter__ method, so pandas accepts body as file-like object\nif not hasattr(body, \"__iter__\"): body.__iter__ = types.MethodType( __iter__, body )\n\ndf_data_1 = pd.read_csv(body)\ndf_data_1.head()\n# make sure you assign the dataframe to the variable \"df\"\ndf = df_data_1\nprint (df.shape)",
            "execution_count": 5,
            "outputs": [
                {
                    "output_type": "stream",
                    "text": "(39, 9)\n",
                    "name": "stdout"
                }
            ]
        },
        {
            "metadata": {},
            "cell_type": "markdown",
            "source": "Examine the first 5 lines of the input"
        },
        {
            "metadata": {},
            "cell_type": "code",
            "source": "df.head()",
            "execution_count": 6,
            "outputs": [
                {
                    "output_type": "execute_result",
                    "execution_count": 6,
                    "data": {
                        "text/plain": "   Unnamed: 0 State        Income  age  gender   personality   occupation  \\\n0           0    CA  $400,000.00    33    male  disagreeable     attorney   \n1           1    FL  $150,000.00    62  female  disagreeable      retired   \n2           2    TX   $80,000.00    44    male     agreeable      plumber   \n3           3    NY  $115,000.00    38    male  disagreeable       banker   \n4           4    NV  $165,000.00    52    male     agreeable  businessman   \n\n  car hobby  churn  \n0       yes   True  \n1        no   True  \n2        no  False  \n3        no  False  \n4       yes   True  ",
                        "text/html": "<div>\n<style scoped>\n    .dataframe tbody tr th:only-of-type {\n        vertical-align: middle;\n    }\n\n    .dataframe tbody tr th {\n        vertical-align: top;\n    }\n\n    .dataframe thead th {\n        text-align: right;\n    }\n</style>\n<table border=\"1\" class=\"dataframe\">\n  <thead>\n    <tr style=\"text-align: right;\">\n      <th></th>\n      <th>Unnamed: 0</th>\n      <th>State</th>\n      <th>Income</th>\n      <th>age</th>\n      <th>gender</th>\n      <th>personality</th>\n      <th>occupation</th>\n      <th>car hobby</th>\n      <th>churn</th>\n    </tr>\n  </thead>\n  <tbody>\n    <tr>\n      <th>0</th>\n      <td>0</td>\n      <td>CA</td>\n      <td>$400,000.00</td>\n      <td>33</td>\n      <td>male</td>\n      <td>disagreeable</td>\n      <td>attorney</td>\n      <td>yes</td>\n      <td>True</td>\n    </tr>\n    <tr>\n      <th>1</th>\n      <td>1</td>\n      <td>FL</td>\n      <td>$150,000.00</td>\n      <td>62</td>\n      <td>female</td>\n      <td>disagreeable</td>\n      <td>retired</td>\n      <td>no</td>\n      <td>True</td>\n    </tr>\n    <tr>\n      <th>2</th>\n      <td>2</td>\n      <td>TX</td>\n      <td>$80,000.00</td>\n      <td>44</td>\n      <td>male</td>\n      <td>agreeable</td>\n      <td>plumber</td>\n      <td>no</td>\n      <td>False</td>\n    </tr>\n    <tr>\n      <th>3</th>\n      <td>3</td>\n      <td>NY</td>\n      <td>$115,000.00</td>\n      <td>38</td>\n      <td>male</td>\n      <td>disagreeable</td>\n      <td>banker</td>\n      <td>no</td>\n      <td>False</td>\n    </tr>\n    <tr>\n      <th>4</th>\n      <td>4</td>\n      <td>NV</td>\n      <td>$165,000.00</td>\n      <td>52</td>\n      <td>male</td>\n      <td>agreeable</td>\n      <td>businessman</td>\n      <td>yes</td>\n      <td>True</td>\n    </tr>\n  </tbody>\n</table>\n</div>"
                    },
                    "metadata": {}
                }
            ]
        },
        {
            "metadata": {},
            "cell_type": "code",
            "source": "y = df[\"churn\"].value_counts()\nsns.barplot(y.index, y.values)",
            "execution_count": 7,
            "outputs": [
                {
                    "output_type": "execute_result",
                    "execution_count": 7,
                    "data": {
                        "text/plain": "<matplotlib.axes._subplots.AxesSubplot at 0x7f687570a850>"
                    },
                    "metadata": {}
                },
                {
                    "output_type": "display_data",
                    "data": {
                        "text/plain": "<Figure size 432x288 with 1 Axes>",
                        "image/png": "[encoded data removed]"
                    },
                    "metadata": {
                        "needs_background": "light"
                    }
                }
            ]
        },
        {
            "metadata": {},
            "cell_type": "code",
            "source": "y_True = df[\"churn\"][df[\"churn\"] == True]\nprint (\"Churn Percentage = \"+str( (y_True.shape[0] / df[\"churn\"].shape[0]) * 100 ))",
            "execution_count": 8,
            "outputs": [
                {
                    "output_type": "stream",
                    "text": "Churn Percentage = 48.717948717948715\n",
                    "name": "stdout"
                }
            ]
        },
        {
            "metadata": {},
            "cell_type": "markdown",
            "source": "## Descriptive Analysis of the Data"
        },
        {
            "metadata": {},
            "cell_type": "code",
            "source": "  df.describe()",
            "execution_count": 9,
            "outputs": [
                {
                    "output_type": "execute_result",
                    "execution_count": 9,
                    "data": {
                        "text/plain": "       Unnamed: 0        age\ncount   39.000000  39.000000\nmean    19.000000  40.641026\nstd     11.401754  12.564543\nmin      0.000000  18.000000\n25%      9.500000  32.500000\n50%     19.000000  39.000000\n75%     28.500000  45.000000\nmax     38.000000  70.000000",
                        "text/html": "<div>\n<style scoped>\n    .dataframe tbody tr th:only-of-type {\n        vertical-align: middle;\n    }\n\n    .dataframe tbody tr th {\n        vertical-align: top;\n    }\n\n    .dataframe thead th {\n        text-align: right;\n    }\n</style>\n<table border=\"1\" class=\"dataframe\">\n  <thead>\n    <tr style=\"text-align: right;\">\n      <th></th>\n      <th>Unnamed: 0</th>\n      <th>age</th>\n    </tr>\n  </thead>\n  <tbody>\n    <tr>\n      <th>count</th>\n      <td>39.000000</td>\n      <td>39.000000</td>\n    </tr>\n    <tr>\n      <th>mean</th>\n      <td>19.000000</td>\n      <td>40.641026</td>\n    </tr>\n    <tr>\n      <th>std</th>\n      <td>11.401754</td>\n      <td>12.564543</td>\n    </tr>\n    <tr>\n      <th>min</th>\n      <td>0.000000</td>\n      <td>18.000000</td>\n    </tr>\n    <tr>\n      <th>25%</th>\n      <td>9.500000</td>\n      <td>32.500000</td>\n    </tr>\n    <tr>\n      <th>50%</th>\n      <td>19.000000</td>\n      <td>39.000000</td>\n    </tr>\n    <tr>\n      <th>75%</th>\n      <td>28.500000</td>\n      <td>45.000000</td>\n    </tr>\n    <tr>\n      <th>max</th>\n      <td>38.000000</td>\n      <td>70.000000</td>\n    </tr>\n  </tbody>\n</table>\n</div>"
                    },
                    "metadata": {}
                }
            ]
        },
        {
            "metadata": {},
            "cell_type": "markdown",
            "source": "### Churn by State "
        },
        {
            "metadata": {},
            "cell_type": "code",
            "source": "df.groupby([\"State\", \"churn\"]).size().unstack().plot(kind='bar', stacked=True, figsize=(30,10)) ",
            "execution_count": 11,
            "outputs": [
                {
                    "output_type": "execute_result",
                    "execution_count": 11,
                    "data": {
                        "text/plain": "<matplotlib.axes._subplots.AxesSubplot at 0x7f687451dd90>"
                    },
                    "metadata": {}
                },
                {
                    "output_type": "display_data",
                    "data": {
                        "text/plain": "<Figure size 2160x720 with 1 Axes>",
                        "image/png": "[encoded data removed]"
                    },
                    "metadata": {
                        "needs_background": "light"
                    }
                }
            ]
        },
        {
            "metadata": {},
            "cell_type": "markdown",
            "source": "### Churn by Income"
        },
        {
            "metadata": {},
            "cell_type": "code",
            "source": "df.groupby([\"Income\", \"churn\"]).size().unstack().plot(kind='bar', stacked=True, figsize=(5,5)) ",
            "execution_count": 13,
            "outputs": [
                {
                    "output_type": "execute_result",
                    "execution_count": 13,
                    "data": {
                        "text/plain": "<matplotlib.axes._subplots.AxesSubplot at 0x7f6874430e90>"
                    },
                    "metadata": {}
                },
                {
                    "output_type": "display_data",
                    "data": {
                        "text/plain": "<Figure size 360x360 with 1 Axes>",
                        "image/png": "[encoded data removed]"
                    },
                    "metadata": {
                        "needs_background": "light"
                    }
                }
            ]
        },
        {
            "metadata": {},
            "cell_type": "markdown",
            "source": "###  Churn by customers with occupation "
        },
        {
            "metadata": {},
            "cell_type": "code",
            "source": "df.groupby([\"occupation\", \"churn\"]).size().unstack().plot(kind='bar', stacked=True, figsize=(5,5)) ",
            "execution_count": 14,
            "outputs": [
                {
                    "output_type": "execute_result",
                    "execution_count": 14,
                    "data": {
                        "text/plain": "<matplotlib.axes._subplots.AxesSubplot at 0x7f6874294b10>"
                    },
                    "metadata": {}
                },
                {
                    "output_type": "display_data",
                    "data": {
                        "text/plain": "<Figure size 360x360 with 1 Axes>",
                        "image/png": "[encoded data removed]"
                    },
                    "metadata": {
                        "needs_background": "light"
                    }
                }
            ]
        },
        {
            "metadata": {},
            "cell_type": "markdown",
            "source": "### Churn By Customers with car hobby"
        },
        {
            "metadata": {},
            "cell_type": "code",
            "source": "df.groupby([\"car hobby\", \"churn\"]).size().unstack().plot(kind='bar', stacked=True, figsize=(5,5)) ",
            "execution_count": 15,
            "outputs": [
                {
                    "output_type": "execute_result",
                    "execution_count": 15,
                    "data": {
                        "text/plain": "<matplotlib.axes._subplots.AxesSubplot at 0x7f68741e9e90>"
                    },
                    "metadata": {}
                },
                {
                    "output_type": "display_data",
                    "data": {
                        "text/plain": "<Figure size 360x360 with 1 Axes>",
                        "image/png": "[encoded data removed]"
                    },
                    "metadata": {
                        "needs_background": "light"
                    }
                }
            ]
        },
        {
            "metadata": {},
            "cell_type": "markdown",
            "source": "## Data Preparation"
        },
        {
            "metadata": {},
            "cell_type": "markdown",
            "source": "The following preprocessing steps need to be done:\n1. Turn categorical variables into discrete numerical variables\n2. Create response vector\n3. Drop superflous columns\n4. Build feature matrix\n5. Standardize feature matrix values"
        },
        {
            "metadata": {},
            "cell_type": "markdown",
            "source": "### Encode categorical columns"
        },
        {
            "metadata": {},
            "cell_type": "code",
            "source": "# Discreet value integer encoder\nlabel_encoder = preprocessing.LabelEncoder()\n\n# State, Income gender, personality, occupation, and car hobby plan are strings and we want discreet integer values\ndf['State'] = label_encoder.fit_transform(df['State'])\ndf['Income'] = label_encoder.fit_transform(df['Income'])\ndf['gender'] = label_encoder.fit_transform(df['gender'])\ndf['personality'] = label_encoder.fit_transform(df['personality'])\ndf['occupation'] = label_encoder.fit_transform(df['occupation'])\ndf['car hobby'] = label_encoder.fit_transform(df['car hobby'])\n\nprint (df.dtypes)",
            "execution_count": 23,
            "outputs": [
                {
                    "output_type": "stream",
                    "text": "Unnamed: 0     int64\nState          int64\nIncome         int64\nage            int64\ngender         int64\npersonality    int64\noccupation     int64\ncar hobby      int64\nchurn           bool\ndtype: object\n",
                    "name": "stdout"
                }
            ]
        },
        {
            "metadata": {
                "scrolled": true
            },
            "cell_type": "code",
            "source": "print (df.shape)\ndf.head()",
            "execution_count": 24,
            "outputs": [
                {
                    "output_type": "stream",
                    "text": "(39, 9)\n",
                    "name": "stdout"
                },
                {
                    "output_type": "execute_result",
                    "execution_count": 24,
                    "data": {
                        "text/plain": "   Unnamed: 0  State  Income  age  gender  personality  occupation  car hobby  \\\n0           0      2      15   33       1            1           0          1   \n1           1      3       6   62       0            1          11          0   \n2           2     15      24   44       1            0          10          0   \n3           3     10       1   38       1            1           1          0   \n4           4      9       7   52       1            0           2          1   \n\n   churn  \n0   True  \n1   True  \n2  False  \n3  False  \n4   True  ",
                        "text/html": "<div>\n<style scoped>\n    .dataframe tbody tr th:only-of-type {\n        vertical-align: middle;\n    }\n\n    .dataframe tbody tr th {\n        vertical-align: top;\n    }\n\n    .dataframe thead th {\n        text-align: right;\n    }\n</style>\n<table border=\"1\" class=\"dataframe\">\n  <thead>\n    <tr style=\"text-align: right;\">\n      <th></th>\n      <th>Unnamed: 0</th>\n      <th>State</th>\n      <th>Income</th>\n      <th>age</th>\n      <th>gender</th>\n      <th>personality</th>\n      <th>occupation</th>\n      <th>car hobby</th>\n      <th>churn</th>\n    </tr>\n  </thead>\n  <tbody>\n    <tr>\n      <th>0</th>\n      <td>0</td>\n      <td>2</td>\n      <td>15</td>\n      <td>33</td>\n      <td>1</td>\n      <td>1</td>\n      <td>0</td>\n      <td>1</td>\n      <td>True</td>\n    </tr>\n    <tr>\n      <th>1</th>\n      <td>1</td>\n      <td>3</td>\n      <td>6</td>\n      <td>62</td>\n      <td>0</td>\n      <td>1</td>\n      <td>11</td>\n      <td>0</td>\n      <td>True</td>\n    </tr>\n    <tr>\n      <th>2</th>\n      <td>2</td>\n      <td>15</td>\n      <td>24</td>\n      <td>44</td>\n      <td>1</td>\n      <td>0</td>\n      <td>10</td>\n      <td>0</td>\n      <td>False</td>\n    </tr>\n    <tr>\n      <th>3</th>\n      <td>3</td>\n      <td>10</td>\n      <td>1</td>\n      <td>38</td>\n      <td>1</td>\n      <td>1</td>\n      <td>1</td>\n      <td>0</td>\n      <td>False</td>\n    </tr>\n    <tr>\n      <th>4</th>\n      <td>4</td>\n      <td>9</td>\n      <td>7</td>\n      <td>52</td>\n      <td>1</td>\n      <td>0</td>\n      <td>2</td>\n      <td>1</td>\n      <td>True</td>\n    </tr>\n  </tbody>\n</table>\n</div>"
                    },
                    "metadata": {}
                }
            ]
        },
        {
            "metadata": {},
            "cell_type": "markdown",
            "source": "### Create response vector"
        },
        {
            "metadata": {},
            "cell_type": "code",
            "source": "y = df['churn'].values.astype(np.int)\ny.size",
            "execution_count": 25,
            "outputs": [
                {
                    "output_type": "execute_result",
                    "execution_count": 25,
                    "data": {
                        "text/plain": "39"
                    },
                    "metadata": {}
                }
            ]
        },
        {
            "metadata": {},
            "cell_type": "markdown",
            "source": "### Drop superflous columns"
        },
        {
            "metadata": {},
            "cell_type": "code",
            "source": "''' df = df.drop([\"XXXXX\",\"XXXXX\"], axis = 1, inplace=True)\ndf.drop([\"XXXXX\",\"XXXXX\"], axis = 1, inplace=True)\ndf.head() no columns to drop'''",
            "execution_count": 26,
            "outputs": [
                {
                    "output_type": "execute_result",
                    "execution_count": 26,
                    "data": {
                        "text/plain": "' df = df.drop([\"XXXXX\",\"XXXXX\"], axis = 1, inplace=True)\\ndf.drop([\"XXXXX\",\"XXXXX\"], axis = 1, inplace=True)\\ndf.head() no columns to drop'"
                    },
                    "metadata": {}
                }
            ]
        },
        {
            "metadata": {},
            "cell_type": "markdown",
            "source": "### Build feature matrix"
        },
        {
            "metadata": {},
            "cell_type": "code",
            "source": "X = df.values.astype(np.float)\nprint(X)\nX.shape",
            "execution_count": 27,
            "outputs": [
                {
                    "output_type": "stream",
                    "text": "[[ 0.  2. 15. 33.  1.  1.  0.  1.  1.]\n [ 1.  3.  6. 62.  0.  1. 11.  0.  1.]\n [ 2. 15. 24. 44.  1.  0. 10.  0.  0.]\n [ 3. 10.  1. 38.  1.  1.  1.  0.  0.]\n [ 4.  9.  7. 52.  1.  0.  2.  1.  1.]\n [ 5.  5. 28. 27.  1.  1.  7.  0.  0.]\n [ 6.  0. 14. 18.  0.  1.  3.  0.  0.]\n [ 7.  1. 19. 24.  1.  0.  3.  1.  0.]\n [ 8.  4. 23. 32.  1.  1. 10.  1.  1.]\n [ 9.  6. 27. 36.  1.  0.  2.  1.  1.]\n [10. 11. 25. 39.  0.  1.  1.  0.  0.]\n [11. 14. 22. 67.  1.  1. 11.  0.  1.]\n [12. 16. 20. 40.  1.  0. 10.  1.  0.]\n [13.  2. 10. 57.  1.  0.  1.  1.  1.]\n [14.  3. 19. 35.  0.  1.  9.  0.  0.]\n [15. 15.  4. 37.  0.  1.  1.  1.  1.]\n [16. 10. 17. 45.  1.  0.  5.  0.  1.]\n [17.  9.  3. 44.  0.  1.  0.  1.  1.]\n [18.  5. 21. 35.  0.  1.  3.  0.  0.]\n [19.  0. 13. 25.  1.  1.  9.  1.  0.]\n [20.  1. 22. 40.  1.  0.  1.  1.  1.]\n [21.  4. 23. 39.  0.  1.  4.  0.  0.]\n [22.  6. 24. 70.  0.  0. 11.  0.  0.]\n [23. 11. 16. 33.  1.  1.  6.  0.  0.]\n [24. 14. 18. 28.  0.  1.  8.  1.  0.]\n [25. 16. 28. 45.  1.  1.  7.  1.  1.]\n [26. 12.  5. 59.  1.  1.  1.  1.  1.]\n [27. 12. 11. 33.  0.  0.  8.  0.  0.]\n [28.  9.  0. 31.  1.  0.  2.  1.  1.]\n [29.  2. 17. 44.  1.  1.  5.  1.  1.]\n [30. 14. 16. 28.  0.  0.  6.  0.  0.]\n [31. 12.  9. 32.  1.  1.  2.  1.  1.]\n [32.  3. 26. 48.  1.  0.  3.  0.  0.]\n [33. 10.  8. 40.  0.  1.  0.  1.  1.]\n [34. 18. 12. 65.  1.  0. 11.  0.  0.]\n [35.  8.  2. 55.  0.  1.  2.  0.  1.]\n [36. 17. 14. 26.  1.  1.  4.  0.  0.]\n [37.  7. 24. 35.  0.  1.  1.  0.  0.]\n [38. 13.  5. 44.  1.  1.  2.  1.  1.]]\n",
                    "name": "stdout"
                },
                {
                    "output_type": "execute_result",
                    "execution_count": 27,
                    "data": {
                        "text/plain": "(39, 9)"
                    },
                    "metadata": {}
                }
            ]
        },
        {
            "metadata": {},
            "cell_type": "markdown",
            "source": "### Standardize Feature Matrix values"
        },
        {
            "metadata": {},
            "cell_type": "code",
            "source": "scaler = preprocessing.StandardScaler()\nX = scaler.fit_transform(X)\nX",
            "execution_count": 28,
            "outputs": [
                {
                    "output_type": "execute_result",
                    "execution_count": 28,
                    "data": {
                        "text/plain": "array([[-1.6881943 , -1.22210955, -0.04066354, -0.61609184,  0.79056942,\n         0.74833148, -1.26771921,  1.02597835,  1.02597835],\n       [-1.59934197, -1.03222002, -1.13857905,  1.72216276, -1.26491106,\n         0.74833148,  1.70414714, -0.97467943,  1.02597835],\n       [-1.51048964,  1.24645436,  1.05725197,  0.27083232,  0.79056942,\n        -1.33630621,  1.43397747, -0.97467943, -0.97467943],\n       [-1.42163731,  0.2970067 , -1.74853211, -0.2129445 ,  0.79056942,\n         0.74833148, -0.99754955, -0.97467943, -0.97467943],\n       [-1.33278497,  0.10711717, -1.01658844,  0.91586807,  0.79056942,\n        -1.33630621, -0.72737988,  1.02597835,  1.02597835],\n       [-1.24393264, -0.65244095,  1.54521442, -1.09986866,  0.79056942,\n         0.74833148,  0.62346847, -0.97467943, -0.97467943],\n       [-1.15508031, -1.60188861, -0.16265415, -1.82553388, -1.26491106,\n         0.74833148, -0.45721021, -0.97467943, -0.97467943],\n       [-1.06622798, -1.41199908,  0.44729891, -1.34175706,  0.79056942,\n        -1.33630621, -0.45721021,  1.02597835, -0.97467943],\n       [-0.97737565, -0.84233049,  0.93526136, -0.69672131,  0.79056942,\n         0.74833148,  1.43397747,  1.02597835,  1.02597835],\n       [-0.88852332, -0.46255142,  1.42322381, -0.37420343,  0.79056942,\n        -1.33630621, -0.72737988,  1.02597835,  1.02597835],\n       [-0.79967098,  0.48689624,  1.17924259, -0.13231503, -1.26491106,\n         0.74833148, -0.99754955, -0.97467943, -0.97467943],\n       [-0.71081865,  1.05656483,  0.81327075,  2.12531011,  0.79056942,\n         0.74833148,  1.70414714, -0.97467943,  1.02597835],\n       [-0.62196632,  1.43634389,  0.56928952, -0.05168556,  0.79056942,\n        -1.33630621,  1.43397747,  1.02597835, -0.97467943],\n       [-0.53311399, -1.22210955, -0.6506166 ,  1.31901542,  0.79056942,\n        -1.33630621, -0.99754955,  1.02597835,  1.02597835],\n       [-0.44426166, -1.03222002,  0.44729891, -0.4548329 , -1.26491106,\n         0.74833148,  1.1638078 , -0.97467943, -0.97467943],\n       [-0.35540933,  1.24645436, -1.38256027, -0.29357396, -1.26491106,\n         0.74833148, -0.99754955,  1.02597835,  1.02597835],\n       [-0.26655699,  0.2970067 ,  0.20331769,  0.35146179,  0.79056942,\n        -1.33630621,  0.08312913, -0.97467943,  1.02597835],\n       [-0.17770466,  0.10711717, -1.50455089,  0.27083232, -1.26491106,\n         0.74833148, -1.26771921,  1.02597835,  1.02597835],\n       [-0.08885233, -0.65244095,  0.69128014, -0.4548329 , -1.26491106,\n         0.74833148, -0.45721021, -0.97467943, -0.97467943],\n       [ 0.        , -1.60188861, -0.28464476, -1.26112759,  0.79056942,\n         0.74833148,  1.1638078 ,  1.02597835, -0.97467943],\n       [ 0.08885233, -1.41199908,  0.81327075, -0.05168556,  0.79056942,\n        -1.33630621, -0.99754955,  1.02597835,  1.02597835],\n       [ 0.17770466, -0.84233049,  0.93526136, -0.13231503, -1.26491106,\n         0.74833148, -0.18704054, -0.97467943, -0.97467943],\n       [ 0.26655699, -0.46255142,  1.05725197,  2.36719852, -1.26491106,\n        -1.33630621,  1.70414714, -0.97467943, -0.97467943],\n       [ 0.35540933,  0.48689624,  0.08132707, -0.61609184,  0.79056942,\n         0.74833148,  0.3532988 , -0.97467943, -0.97467943],\n       [ 0.44426166,  1.05656483,  0.3253083 , -1.01923919, -1.26491106,\n         0.74833148,  0.89363813,  1.02597835, -0.97467943],\n       [ 0.53311399,  1.43634389,  1.54521442,  0.35146179,  0.79056942,\n         0.74833148,  0.62346847,  1.02597835,  1.02597835],\n       [ 0.62196632,  0.67678577, -1.26056966,  1.48027436,  0.79056942,\n         0.74833148, -0.99754955,  1.02597835,  1.02597835],\n       [ 0.71081865,  0.67678577, -0.52862599, -0.61609184, -1.26491106,\n        -1.33630621,  0.89363813, -0.97467943, -0.97467943],\n       [ 0.79967098,  0.10711717, -1.87052272, -0.77735078,  0.79056942,\n        -1.33630621, -0.72737988,  1.02597835,  1.02597835],\n       [ 0.88852332, -1.22210955,  0.20331769,  0.27083232,  0.79056942,\n         0.74833148,  0.08312913,  1.02597835,  1.02597835],\n       [ 0.97737565,  1.05656483,  0.08132707, -1.01923919, -1.26491106,\n        -1.33630621,  0.3532988 , -0.97467943, -0.97467943],\n       [ 1.06622798,  0.67678577, -0.77260721, -0.69672131,  0.79056942,\n         0.74833148, -0.72737988,  1.02597835,  1.02597835],\n       [ 1.15508031, -1.03222002,  1.3012332 ,  0.5933502 ,  0.79056942,\n        -1.33630621, -0.45721021, -0.97467943, -0.97467943],\n       [ 1.24393264,  0.2970067 , -0.89459782, -0.05168556, -1.26491106,\n         0.74833148, -1.26771921,  1.02597835,  1.02597835],\n       [ 1.33278497,  1.81612296, -0.40663537,  1.96405117,  0.79056942,\n        -1.33630621,  1.70414714, -0.97467943, -0.97467943],\n       [ 1.42163731, -0.08277236, -1.6265415 ,  1.15775648, -1.26491106,\n         0.74833148, -0.72737988, -0.97467943,  1.02597835],\n       [ 1.51048964,  1.62623342, -0.16265415, -1.18049813,  0.79056942,\n         0.74833148, -0.18704054, -0.97467943, -0.97467943],\n       [ 1.59934197, -0.27266189,  1.05725197, -0.4548329 , -1.26491106,\n         0.74833148, -0.99754955, -0.97467943, -0.97467943],\n       [ 1.6881943 ,  0.8666753 , -1.26056966,  0.27083232,  0.79056942,\n         0.74833148, -0.72737988,  1.02597835,  1.02597835]])"
                    },
                    "metadata": {}
                }
            ]
        },
        {
            "metadata": {},
            "cell_type": "markdown",
            "source": "This completes the data preparation steps."
        },
        {
            "metadata": {},
            "cell_type": "markdown",
            "source": "## Split Train/Test Validation Data"
        },
        {
            "metadata": {},
            "cell_type": "markdown",
            "source": "We need to adopt Stratified Cross Validation - Since the Response values are not balanced"
        },
        {
            "metadata": {},
            "cell_type": "code",
            "source": "def stratified_cv(X, y, clf_class, shuffle=True, n_folds=10):\n    stratified_k_fold = model_selection.StratifiedKFold(n_splits=n_folds, shuffle=shuffle)\n    y_pred = y.copy()\n    # ii -> train\n    # jj -> test indices\n    for ii, jj in stratified_k_fold.split(X, y): \n        X_train, X_test = X[ii], X[jj]\n        y_train = y[ii]\n        clf = clf_class\n        clf.fit(X_train,y_train)\n        y_pred[jj] = clf.predict(X_test)\n    return y_pred",
            "execution_count": 29,
            "outputs": []
        },
        {
            "metadata": {},
            "cell_type": "markdown",
            "source": "## Build Models and Train"
        },
        {
            "metadata": {},
            "cell_type": "markdown",
            "source": "We will build models using a variety of approaches to see how they compare:"
        },
        {
            "metadata": {},
            "cell_type": "code",
            "source": "# create classifiers\nfrom sklearn.ensemble import GradientBoostingClassifier\ngradient_boost = GradientBoostingClassifier()\n\nfrom sklearn.svm import SVC\nsvc_model = SVC(gamma='auto')\n\nfrom sklearn.ensemble import RandomForestClassifier\nrandom_forest = RandomForestClassifier(n_estimators=10)\n\nfrom sklearn.neighbors import KNeighborsClassifier\nk_neighbors = KNeighborsClassifier()\n\nfrom sklearn.linear_model import LogisticRegression\nlogistic_regression = LogisticRegression(solver='lbfgs')",
            "execution_count": 30,
            "outputs": []
        },
        {
            "metadata": {},
            "cell_type": "code",
            "source": "print('Gradient Boosting Classifier:  {:.2f}'.format(metrics.accuracy_score(y, stratified_cv(X, y, gradient_boost))))\nprint('Support vector machine(SVM):   {:.2f}'.format(metrics.accuracy_score(y, stratified_cv(X, y, svc_model))))\nprint('Random Forest Classifier:      {:.2f}'.format(metrics.accuracy_score(y, stratified_cv(X, y, random_forest))))\nprint('K Nearest Neighbor Classifier: {:.2f}'.format(metrics.accuracy_score(y, stratified_cv(X, y, k_neighbors))))\nprint('Logistic Regression:           {:.2f}'.format(metrics.accuracy_score(y, stratified_cv(X, y, logistic_regression))))",
            "execution_count": 31,
            "outputs": [
                {
                    "output_type": "stream",
                    "text": "Gradient Boosting Classifier:  1.00\nSupport vector machine(SVM):   1.00\nRandom Forest Classifier:      0.97\nK Nearest Neighbor Classifier: 0.97\nLogistic Regression:           1.00\n",
                    "name": "stdout"
                }
            ]
        },
        {
            "metadata": {},
            "cell_type": "markdown",
            "source": "## Model Evaluation"
        },
        {
            "metadata": {},
            "cell_type": "markdown",
            "source": "We will now generate confusion matrices for the various models to analyze the prediction in more detail."
        },
        {
            "metadata": {},
            "cell_type": "markdown",
            "source": "### Gradient Boosting Classifier"
        },
        {
            "metadata": {},
            "cell_type": "code",
            "source": "grad_ens_conf_matrix = metrics.confusion_matrix(y, stratified_cv(X, y, gradient_boost))\nsns.heatmap(grad_ens_conf_matrix, annot=True,  fmt='');\ntitle = 'Gradient Boosting'\nplt.title(title);",
            "execution_count": 32,
            "outputs": [
                {
                    "output_type": "display_data",
                    "data": {
                        "text/plain": "<Figure size 432x288 with 2 Axes>",
                        "image/png": "[encoded data removed]"
                    },
                    "metadata": {
                        "needs_background": "light"
                    }
                }
            ]
        },
        {
            "metadata": {},
            "cell_type": "markdown",
            "source": "### Support Vector Machines"
        },
        {
            "metadata": {},
            "cell_type": "code",
            "source": "svm_svc_conf_matrix = metrics.confusion_matrix(y, stratified_cv(X, y, svc_model))\nsns.heatmap(svm_svc_conf_matrix, annot=True,  fmt='');\ntitle = 'SVM'\nplt.title(title);",
            "execution_count": 33,
            "outputs": [
                {
                    "output_type": "display_data",
                    "data": {
                        "text/plain": "<Figure size 432x288 with 2 Axes>",
                        "image/png": "[encoded data removed]"
                    },
                    "metadata": {
                        "needs_background": "light"
                    }
                }
            ]
        },
        {
            "metadata": {},
            "cell_type": "markdown",
            "source": "### Random Forest"
        },
        {
            "metadata": {},
            "cell_type": "code",
            "source": "random_forest_conf_matrix = metrics.confusion_matrix(y, stratified_cv(X, y, random_forest))\nsns.heatmap(random_forest_conf_matrix, annot=True,  fmt='');\ntitle = 'Random Forest'\nplt.title(title);",
            "execution_count": 34,
            "outputs": [
                {
                    "output_type": "display_data",
                    "data": {
                        "text/plain": "<Figure size 432x288 with 2 Axes>",
                        "image/png": "[encoded data removed]"
                    },
                    "metadata": {
                        "needs_background": "light"
                    }
                }
            ]
        },
        {
            "metadata": {},
            "cell_type": "markdown",
            "source": "### Classification Report"
        },
        {
            "metadata": {},
            "cell_type": "code",
            "source": "print('Gradient Boosting Classifier:\\n {}\\n'.format(metrics.classification_report(y, stratified_cv(X, y, gradient_boost))))\nprint('Support vector machine(SVM):\\n {}\\n'.format(metrics.classification_report(y, stratified_cv(X, y, svc_model))))\nprint('Random Forest Classifier:\\n {}\\n'.format(metrics.classification_report(y, stratified_cv(X, y, random_forest))))",
            "execution_count": 35,
            "outputs": [
                {
                    "output_type": "stream",
                    "text": "Gradient Boosting Classifier:\n               precision    recall  f1-score   support\n\n           0       1.00      1.00      1.00        20\n           1       1.00      1.00      1.00        19\n\n    accuracy                           1.00        39\n   macro avg       1.00      1.00      1.00        39\nweighted avg       1.00      1.00      1.00        39\n\n\nSupport vector machine(SVM):\n               precision    recall  f1-score   support\n\n           0       1.00      1.00      1.00        20\n           1       1.00      1.00      1.00        19\n\n    accuracy                           1.00        39\n   macro avg       1.00      1.00      1.00        39\nweighted avg       1.00      1.00      1.00        39\n\n\nRandom Forest Classifier:\n               precision    recall  f1-score   support\n\n           0       1.00      1.00      1.00        20\n           1       1.00      1.00      1.00        19\n\n    accuracy                           1.00        39\n   macro avg       1.00      1.00      1.00        39\nweighted avg       1.00      1.00      1.00        39\n\n\n",
                    "name": "stdout"
                }
            ]
        },
        {
            "metadata": {},
            "cell_type": "markdown",
            "source": "## Final Model Selection"
        },
        {
            "metadata": {},
            "cell_type": "markdown",
            "source": "Gradient Boosting seems to do comparatively better for this case"
        },
        {
            "metadata": {},
            "cell_type": "code",
            "source": "gbc = ensemble.GradientBoostingClassifier()\ngbc.fit(X, y)",
            "execution_count": 36,
            "outputs": [
                {
                    "output_type": "execute_result",
                    "execution_count": 36,
                    "data": {
                        "text/plain": "GradientBoostingClassifier()"
                    },
                    "metadata": {}
                }
            ]
        },
        {
            "metadata": {
                "scrolled": true
            },
            "cell_type": "code",
            "source": "# Get Feature Importance from the classifier\nfeature_importance = gbc.feature_importances_\nprint (gbc.feature_importances_)\nfeat_importances = pd.Series(gbc.feature_importances_, index=df.columns)\nfeat_importances = feat_importances.nlargest(19)\nfeat_importances.plot(kind='barh' , figsize=(10,10)) ",
            "execution_count": 37,
            "outputs": [
                {
                    "output_type": "stream",
                    "text": "[ 1.31021621e-16 -3.38674562e-19  5.31291159e-17  2.03321982e-16\n  1.83542125e-17  1.12181716e-17 -4.63610350e-18  3.31490993e-17\n  1.00000000e+00]\n",
                    "name": "stdout"
                },
                {
                    "output_type": "execute_result",
                    "execution_count": 37,
                    "data": {
                        "text/plain": "<matplotlib.axes._subplots.AxesSubplot at 0x7f6874424b50>"
                    },
                    "metadata": {}
                },
                {
                    "output_type": "display_data",
                    "data": {
                        "text/plain": "<Figure size 720x720 with 1 Axes>",
                        "image/png": "[encoded data removed]"
                    },
                    "metadata": {
                        "needs_background": "light"
                    }
                }
            ]
        },
        {
            "metadata": {},
            "cell_type": "markdown",
            "source": "## Save and Deploy model to Watson Machine Learning"
        },
        {
            "metadata": {},
            "cell_type": "markdown",
            "source": "### Connection to WML\n\nTo authenticate the Watson Machine Learning service on IBM Cloud, you will need to provide a platform `api_key` and instance `location`.\n\nYou can use the [IBM Cloud CLI](https://cloud.ibm.com/docs/cli/index.html) or IBM Cloud console to create your API key.\n\nUsing the IBM Cloud CLI:\n\n```bash\nibmcloud login\nibmcloud iam api-key-create API_KEY_NAME\n```\n\nRetrieve the value of api_key from the output.\n\n```bash\nibmcloud login --apikey API_KEY -a https://cloud.ibm.com\nibmcloud resource service-instance WML_INSTANCE_NAME\n```\n\nRetrieve the value of location from the output.\n\nUsing the IBM Cloud console:\n\nNavigate to the [Users panel](https://cloud.ibm.com/iam#/users). Then click your name, scroll down to the **API Keys** section, and click **Create an IBM Cloud API key**. Give your key a name and click **Create**, then copy the created key and paste it below. You can retrieve your instance location in your [Watson Machine Learning (WML) Service](https://console.ng.bluemix.net/catalog/services/ibm-watson-machine-learning/) instance details.\n\nYou can also get service specific apikey by going to the [Service IDs section of the Cloud Console](https://cloud.ibm.com/iam/serviceids). From that page, click **Create**, then copy the created key and paste it below.\n\n**NOTE**: You can also get a service specific url. Go to the [Endpoint URLs section of the Watson Machine Learning docs](https://cloud.ibm.com/apidocs/machine-learning) for details."
        },
        {
            "metadata": {},
            "cell_type": "code",
            "source": "api_key = 'kpNJbsqwSltRpWIshLhpm5Z-I4yjnTLAn37FFwx_pghB'\nlocation = 'us-south'",
            "execution_count": 40,
            "outputs": []
        },
        {
            "metadata": {},
            "cell_type": "code",
            "source": "wml_credentials = {\n    \"apikey\": api_key,\n    \"url\": 'https://' + location + '.ml.cloud.ibm.com'\n}",
            "execution_count": 41,
            "outputs": []
        },
        {
            "metadata": {},
            "cell_type": "markdown",
            "source": "### Install and import the ibm-watson-machine-learning package\n\nNote: ibm-watson-machine-learning documentation can be found [here](http://ibm-wml-api-pyclient.mybluemix.net/)."
        },
        {
            "metadata": {},
            "cell_type": "code",
            "source": "!pip install -U ibm-watson-machine-learning",
            "execution_count": 42,
            "outputs": [
                {
                    "output_type": "stream",
                    "text": "Collecting ibm-watson-machine-learning\n  Downloading ibm_watson_machine_learning-1.0.51-py3-none-any.whl (1.7 MB)\n\u001b[K     |\u2588\u2588\u2588\u2588\u2588\u2588\u2588\u2588\u2588\u2588\u2588\u2588\u2588\u2588\u2588\u2588\u2588\u2588\u2588\u2588\u2588\u2588\u2588\u2588\u2588\u2588\u2588\u2588\u2588\u2588\u2588\u2588| 1.7 MB 21.9 MB/s eta 0:00:01\n\u001b[?25hRequirement already satisfied, skipping upgrade: certifi in /opt/conda/envs/Python-3.7-main/lib/python3.7/site-packages (from ibm-watson-machine-learning) (2020.12.5)\nRequirement already satisfied, skipping upgrade: ibm-cos-sdk==2.7.* in /opt/conda/envs/Python-3.7-main/lib/python3.7/site-packages (from ibm-watson-machine-learning) (2.7.0)\nRequirement already satisfied, skipping upgrade: requests in /opt/conda/envs/Python-3.7-main/lib/python3.7/site-packages (from ibm-watson-machine-learning) (2.24.0)\nRequirement already satisfied, skipping upgrade: packaging in /opt/conda/envs/Python-3.7-main/lib/python3.7/site-packages (from ibm-watson-machine-learning) (20.4)\nRequirement already satisfied, skipping upgrade: tabulate in /opt/conda/envs/Python-3.7-main/lib/python3.7/site-packages (from ibm-watson-machine-learning) (0.8.3)\nRequirement already satisfied, skipping upgrade: lomond in /opt/conda/envs/Python-3.7-main/lib/python3.7/site-packages (from ibm-watson-machine-learning) (0.3.3)\nRequirement already satisfied, skipping upgrade: urllib3 in /opt/conda/envs/Python-3.7-main/lib/python3.7/site-packages (from ibm-watson-machine-learning) (1.25.9)\nRequirement already satisfied, skipping upgrade: pandas<=1.0.5 in /opt/conda/envs/Python-3.7-main/lib/python3.7/site-packages (from ibm-watson-machine-learning) (1.0.5)\nRequirement already satisfied, skipping upgrade: ibm-cos-sdk-s3transfer==2.7.0 in /opt/conda/envs/Python-3.7-main/lib/python3.7/site-packages (from ibm-cos-sdk==2.7.*->ibm-watson-machine-learning) (2.7.0)\nRequirement already satisfied, skipping upgrade: jmespath<1.0.0,>=0.7.1 in /opt/conda/envs/Python-3.7-main/lib/python3.7/site-packages (from ibm-cos-sdk==2.7.*->ibm-watson-machine-learning) (0.9.4)\nRequirement already satisfied, skipping upgrade: ibm-cos-sdk-core==2.7.0 in /opt/conda/envs/Python-3.7-main/lib/python3.7/site-packages (from ibm-cos-sdk==2.7.*->ibm-watson-machine-learning) (2.7.0)\nRequirement already satisfied, skipping upgrade: idna<3,>=2.5 in /opt/conda/envs/Python-3.7-main/lib/python3.7/site-packages (from requests->ibm-watson-machine-learning) (2.9)\nRequirement already satisfied, skipping upgrade: chardet<4,>=3.0.2 in /opt/conda/envs/Python-3.7-main/lib/python3.7/site-packages (from requests->ibm-watson-machine-learning) (3.0.4)\nRequirement already satisfied, skipping upgrade: six in /opt/conda/envs/Python-3.7-main/lib/python3.7/site-packages (from packaging->ibm-watson-machine-learning) (1.15.0)\nRequirement already satisfied, skipping upgrade: pyparsing>=2.0.2 in /opt/conda/envs/Python-3.7-main/lib/python3.7/site-packages (from packaging->ibm-watson-machine-learning) (2.4.7)\nRequirement already satisfied, skipping upgrade: python-dateutil>=2.6.1 in /opt/conda/envs/Python-3.7-main/lib/python3.7/site-packages (from pandas<=1.0.5->ibm-watson-machine-learning) (2.8.1)\nRequirement already satisfied, skipping upgrade: pytz>=2017.2 in /opt/conda/envs/Python-3.7-main/lib/python3.7/site-packages (from pandas<=1.0.5->ibm-watson-machine-learning) (2020.1)\nRequirement already satisfied, skipping upgrade: numpy>=1.13.3 in /opt/conda/envs/Python-3.7-main/lib/python3.7/site-packages (from pandas<=1.0.5->ibm-watson-machine-learning) (1.18.5)\nRequirement already satisfied, skipping upgrade: docutils<0.16,>=0.10 in /opt/conda/envs/Python-3.7-main/lib/python3.7/site-packages (from ibm-cos-sdk-core==2.7.0->ibm-cos-sdk==2.7.*->ibm-watson-machine-learning) (0.15.2)\nInstalling collected packages: ibm-watson-machine-learning\n  Attempting uninstall: ibm-watson-machine-learning\n    Found existing installation: ibm-watson-machine-learning 1.0.45\n    Uninstalling ibm-watson-machine-learning-1.0.45:\n      Successfully uninstalled ibm-watson-machine-learning-1.0.45\nSuccessfully installed ibm-watson-machine-learning-1.0.51\n",
                    "name": "stdout"
                }
            ]
        },
        {
            "metadata": {},
            "cell_type": "code",
            "source": "# create client to access our WML service\nfrom ibm_watson_machine_learning import APIClient\n\nclient = APIClient(wml_credentials)\nprint(client.version)",
            "execution_count": 43,
            "outputs": [
                {
                    "output_type": "stream",
                    "text": "1.0.45\n",
                    "name": "stdout"
                }
            ]
        },
        {
            "metadata": {},
            "cell_type": "markdown",
            "source": "### Working with spaces\n\nFirst, create a space that will be used for your work. If you do not have space already created, you can use [Deployment Spaces dashboard](https://dataplatform.cloud.ibm.com/ml-runtime/spaces?context=cpdaas) to create one.\n\n* Click New Deployment Space\n* Create an empty space\n* Select Cloud Object Storage\n* Select Watson Machine Learning instance and press Create\n* Copy space_id and paste it below\n\n**Tip**: You can also use WML SDK to prepare the space for your work. More information can be found [here](https://github.com/IBM/watson-machine-learning-samples/blob/master/cloud/notebooks/python_sdk/instance-management/Space%20management.ipynb).\n\n**Action**: Assign space ID below"
        },
        {
            "metadata": {},
            "cell_type": "code",
            "source": "space_id = '11a1f437-6ece-4e35-a5e3-fa00656e3340'",
            "execution_count": 44,
            "outputs": []
        },
        {
            "metadata": {},
            "cell_type": "markdown",
            "source": "You can use list method to print all existing spaces."
        },
        {
            "metadata": {},
            "cell_type": "code",
            "source": "client.spaces.list(limit=10)",
            "execution_count": 45,
            "outputs": [
                {
                    "output_type": "stream",
                    "text": "------------------------------------  -----------------------------  ------------------------\nID                                    NAME                           CREATED\n11a1f437-6ece-4e35-a5e3-fa00656e3340  customer-churn-luxury-vehicle  2021-02-27T23:17:30.078Z\na55d2045-05cb-4667-87aa-3da5f3206f30  workshop-deployments           2020-12-27T21:32:40.843Z\n------------------------------------  -----------------------------  ------------------------\n",
                    "name": "stdout"
                }
            ]
        },
        {
            "metadata": {},
            "cell_type": "markdown",
            "source": "To be able to interact with all resources available in Watson Machine Learning, you need to set the **space** which you will be using."
        },
        {
            "metadata": {},
            "cell_type": "code",
            "source": "client.set.default_space(space_id)",
            "execution_count": 46,
            "outputs": [
                {
                    "output_type": "execute_result",
                    "execution_count": 46,
                    "data": {
                        "text/plain": "'SUCCESS'"
                    },
                    "metadata": {}
                }
            ]
        },
        {
            "metadata": {},
            "cell_type": "markdown",
            "source": "### Upload model\n\nIn this section you will learn how to upload the model to the Cloud."
        },
        {
            "metadata": {},
            "cell_type": "code",
            "source": "sofware_spec_uid = client.software_specifications.get_id_by_name(\"default_py3.7\")\nmetadata = {\n            client.repository.ModelMetaNames.NAME: 'Gradient Boosting model to predict customer churn',\n            client.repository.ModelMetaNames.TYPE: 'scikit-learn_0.23',\n            client.repository.ModelMetaNames.SOFTWARE_SPEC_UID: sofware_spec_uid\n}\n\npublished_model = client.repository.store_model(\n    model=gbc,\n    meta_props=metadata)",
            "execution_count": 47,
            "outputs": []
        },
        {
            "metadata": {},
            "cell_type": "markdown",
            "source": "Use the following command to get details about the model"
        },
        {
            "metadata": {},
            "cell_type": "code",
            "source": "# Get model details\nimport json\n\npublished_model_uid = client.repository.get_model_uid(published_model)\nmodel_details = client.repository.get_details(published_model_uid)\nprint(json.dumps(model_details, indent=2))",
            "execution_count": 48,
            "outputs": [
                {
                    "output_type": "stream",
                    "text": "{\n  \"entity\": {\n    \"software_spec\": {\n      \"id\": \"e4429883-c883-42b6-87a8-f419d64088cd\",\n      \"name\": \"default_py3.7\"\n    },\n    \"type\": \"scikit-learn_0.23\"\n  },\n  \"metadata\": {\n    \"created_at\": \"2021-02-28T00:31:50.650Z\",\n    \"id\": \"6c27a204-7744-4507-96a4-e2d37cff2ecc\",\n    \"modified_at\": \"2021-02-28T00:31:54.488Z\",\n    \"name\": \"Gradient Boosting model to predict customer churn\",\n    \"owner\": \"IBMid-550006EJ0N\",\n    \"space_id\": \"11a1f437-6ece-4e35-a5e3-fa00656e3340\"\n  },\n  \"system\": {\n    \"warnings\": []\n  }\n}\n",
                    "name": "stdout"
                }
            ]
        },
        {
            "metadata": {},
            "cell_type": "markdown",
            "source": "Note: You can see that model is successfully stored in Watson Machine Learning Service."
        },
        {
            "metadata": {},
            "cell_type": "code",
            "source": "client.repository.list_models()",
            "execution_count": 49,
            "outputs": [
                {
                    "output_type": "stream",
                    "text": "------------------------------------  -------------------------------------------------  ------------------------  -----------------\nID                                    NAME                                               CREATED                   TYPE\n6c27a204-7744-4507-96a4-e2d37cff2ecc  Gradient Boosting model to predict customer churn  2021-02-28T00:31:50.002Z  scikit-learn_0.23\n------------------------------------  -------------------------------------------------  ------------------------  -----------------\n",
                    "name": "stdout"
                }
            ]
        },
        {
            "metadata": {},
            "cell_type": "markdown",
            "source": "Use the following command to clean up/delete any previously created models"
        },
        {
            "metadata": {},
            "cell_type": "code",
            "source": "# client.repository.delete('GUID of stored model')",
            "execution_count": 50,
            "outputs": []
        },
        {
            "metadata": {},
            "cell_type": "markdown",
            "source": "### Create online deployment\n\nYou can use commands bellow to deploy the stored model as a web service."
        },
        {
            "metadata": {},
            "cell_type": "code",
            "source": "# Create online deployment\nmetadata = {\n    client.deployments.ConfigurationMetaNames.NAME: \"Deployment of customer churn model\",\n    client.deployments.ConfigurationMetaNames.ONLINE: {}\n}\n\ncreated_deployment = client.deployments.create(published_model_uid, meta_props=metadata)",
            "execution_count": 51,
            "outputs": [
                {
                    "output_type": "stream",
                    "text": "{\"trace\":\"18bf3b7510fa33dd4e7bb7701ed01e45\",\"errors\":[{\"code\":\"instance_quota_exceeded\",\"message\":\"This deployment cannot be processed because it exceeds the allocated capacity unit hours (CUH). Increase the compute resources for this job and try again.\"}]}\n\n\n--------------------------\nDeployment creation failed\n--------------------------\n\n\n",
                    "name": "stdout"
                },
                {
                    "output_type": "error",
                    "ename": "WMLClientError",
                    "evalue": "Deployment creation failed. Error: 402. {\"trace\":\"18bf3b7510fa33dd4e7bb7701ed01e45\",\"errors\":[{\"code\":\"instance_quota_exceeded\",\"message\":\"This deployment cannot be processed because it exceeds the allocated capacity unit hours (CUH). Increase the compute resources for this job and try again.\"}]}",
                    "traceback": [
                        "\u001b[0;31m---------------------------------------------------------------------------\u001b[0m",
                        "\u001b[0;31mWMLClientError\u001b[0m                            Traceback (most recent call last)",
                        "\u001b[0;32m<ipython-input-51-37cd489bcd6d>\u001b[0m in \u001b[0;36m<module>\u001b[0;34m\u001b[0m\n\u001b[1;32m      5\u001b[0m }\n\u001b[1;32m      6\u001b[0m \u001b[0;34m\u001b[0m\u001b[0m\n\u001b[0;32m----> 7\u001b[0;31m \u001b[0mcreated_deployment\u001b[0m \u001b[0;34m=\u001b[0m \u001b[0mclient\u001b[0m\u001b[0;34m.\u001b[0m\u001b[0mdeployments\u001b[0m\u001b[0;34m.\u001b[0m\u001b[0mcreate\u001b[0m\u001b[0;34m(\u001b[0m\u001b[0mpublished_model_uid\u001b[0m\u001b[0;34m,\u001b[0m \u001b[0mmeta_props\u001b[0m\u001b[0;34m=\u001b[0m\u001b[0mmetadata\u001b[0m\u001b[0;34m)\u001b[0m\u001b[0;34m\u001b[0m\u001b[0;34m\u001b[0m\u001b[0m\n\u001b[0m",
                        "\u001b[0;32m/opt/conda/envs/Python-3.7-main/lib/python3.7/site-packages/ibm_watson_machine_learning/deployments.py\u001b[0m in \u001b[0;36mcreate\u001b[0;34m(self, artifact_uid, meta_props, rev_id, **kwargs)\u001b[0m\n\u001b[1;32m    269\u001b[0m                 \u001b[0mprint\u001b[0m\u001b[0;34m(\u001b[0m\u001b[0mreason\u001b[0m\u001b[0;34m)\u001b[0m\u001b[0;34m\u001b[0m\u001b[0;34m\u001b[0m\u001b[0m\n\u001b[1;32m    270\u001b[0m                 \u001b[0mprint_text_header_h2\u001b[0m\u001b[0;34m(\u001b[0m\u001b[0merror_msg\u001b[0m\u001b[0;34m)\u001b[0m\u001b[0;34m\u001b[0m\u001b[0;34m\u001b[0m\u001b[0m\n\u001b[0;32m--> 271\u001b[0;31m                 \u001b[0;32mraise\u001b[0m \u001b[0mWMLClientError\u001b[0m\u001b[0;34m(\u001b[0m\u001b[0merror_msg\u001b[0m \u001b[0;34m+\u001b[0m \u001b[0;34m'. Error: '\u001b[0m \u001b[0;34m+\u001b[0m \u001b[0mstr\u001b[0m\u001b[0;34m(\u001b[0m\u001b[0mresponse\u001b[0m\u001b[0;34m.\u001b[0m\u001b[0mstatus_code\u001b[0m\u001b[0;34m)\u001b[0m \u001b[0;34m+\u001b[0m \u001b[0;34m'. '\u001b[0m \u001b[0;34m+\u001b[0m \u001b[0mreason\u001b[0m\u001b[0;34m)\u001b[0m\u001b[0;34m\u001b[0m\u001b[0;34m\u001b[0m\u001b[0m\n\u001b[0m\u001b[1;32m    272\u001b[0m \u001b[0;34m\u001b[0m\u001b[0m\n\u001b[1;32m    273\u001b[0m             \u001b[0;31m#return self._handle_response(202, u'created deployment', response)\u001b[0m\u001b[0;34m\u001b[0m\u001b[0;34m\u001b[0m\u001b[0;34m\u001b[0m\u001b[0m\n",
                        "\u001b[0;31mWMLClientError\u001b[0m: Deployment creation failed. Error: 402. {\"trace\":\"18bf3b7510fa33dd4e7bb7701ed01e45\",\"errors\":[{\"code\":\"instance_quota_exceeded\",\"message\":\"This deployment cannot be processed because it exceeds the allocated capacity unit hours (CUH). Increase the compute resources for this job and try again.\"}]}"
                    ]
                }
            ]
        },
        {
            "metadata": {},
            "cell_type": "markdown",
            "source": "Use the following commands to retrieve the deployment UID, show all deployments, and to delete old deployments."
        },
        {
            "metadata": {},
            "cell_type": "code",
            "source": "# Get deployment UID and show details on the deployment\ndeployment_uid = client.deployments.get_uid(created_deployment)\nclient.deployments.get_details(deployment_uid)",
            "execution_count": null,
            "outputs": []
        },
        {
            "metadata": {},
            "cell_type": "code",
            "source": "# list all deployments\nclient.deployments.list()",
            "execution_count": null,
            "outputs": []
        },
        {
            "metadata": {},
            "cell_type": "code",
            "source": "# delete old deployments\n# client.deployments.delete('GUID of deployed model')",
            "execution_count": null,
            "outputs": []
        },
        {
            "metadata": {},
            "cell_type": "markdown",
            "source": "### Scoring\n\nYou can send new scoring records to the web-service deployment using the WML **score** method."
        },
        {
            "metadata": {},
            "cell_type": "code",
            "source": "# get scoring end point\nscoring_endpoint = client.deployments.get_scoring_href(created_deployment)\nprint(scoring_endpoint)",
            "execution_count": null,
            "outputs": []
        },
        {
            "metadata": {},
            "cell_type": "code",
            "source": "# use our WML client to score our model\n# add some test data\nscoring_payload = {\"input_data\": [\n    {'fields': ['state', 'Income', 'age', 'gender', 'personality', 'occupation', 'car hobby'], \n     'values': [[ 'NV','115,000.00','34','male','disagreeable','attorney','yes]]\n    }]}",
            "execution_count": null,
            "outputs": []
        },
        {
            "metadata": {},
            "cell_type": "code",
            "source": "# score the model\npredictions = client.deployments.score(deployment_uid, scoring_payload)\nprint('prediction',json.dumps(predictions, indent=2))",
            "execution_count": null,
            "outputs": []
        },
        {
            "metadata": {},
            "cell_type": "markdown",
            "source": "## Acknowledgement"
        },
        {
            "metadata": {},
            "cell_type": "markdown",
            "source": "The approach and code fragments have been adopted from the nootebook on Kaggle by Sandip Datta (https://www.kaggle.com/sandipdatta). \nThe full original notebook can be viewed here: https://www.kaggle.com/sandipdatta/customer-churn-analysis#"
        }
    ],
    "metadata": {
        "kernelspec": {
            "name": "python3",
            "display_name": "Python 3.7",
            "language": "python"
        },
        "language_info": {
            "name": "python",
            "version": "3.7.9",
            "mimetype": "text/x-python",
            "codemirror_mode": {
                "name": "ipython",
                "version": 3
            },
            "pygments_lexer": "ipython3",
            "nbconvert_exporter": "python",
            "file_extension": ".py"
        }
    },
    "nbformat": 4,
    "nbformat_minor": 1
}